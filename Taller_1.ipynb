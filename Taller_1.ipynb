{
  "nbformat": 4,
  "nbformat_minor": 0,
  "metadata": {
    "colab": {
      "provenance": []
    },
    "kernelspec": {
      "name": "python3",
      "display_name": "Python 3"
    },
    "language_info": {
      "name": "python"
    }
  },
  "cells": [
    {
      "cell_type": "markdown",
      "source": [
        "Taller\n",
        "\n",
        "No de Identificación, Nombres, Apellidos, Dirección, Teléfono, Edad, Estado Civil, Número de hijos, Estatura en centímetros, fecha de contratación (Día/mes/año), Sueldo básico, Días Laborados."
      ],
      "metadata": {
        "id": "ILAwzIpYOKvq"
      }
    },
    {
      "cell_type": "code",
      "execution_count": null,
      "metadata": {
        "colab": {
          "base_uri": "https://localhost:8080/"
        },
        "id": "c8_FaUOXMzcB",
        "outputId": "bb1f49f8-2bec-44fe-a4d5-26e807ad499b"
      },
      "outputs": [
        {
          "output_type": "stream",
          "name": "stdout",
          "text": [
            "Digite su número de cédula : 79059750\n",
            "Digite sus nombres : orlando\n",
            "Digite sus apellidos : fernadez villacres\n",
            "Digite su dirección de residencia : calle con carrera\n",
            "Digite su número telefónico : 3001234567\n",
            "Digite su edad : 50\n",
            "Digite su estado civil : casado\n",
            "Digite número de hijos : 2\n",
            "Digite su estatura en cm : 175\n",
            "Digite fecha de contratación : Día : 13\n",
            "Mes : 02\n",
            "Año : 2021\n",
            "Digite su sueldo básico : 2500000\n",
            "Digite los dias laborados : 300\n",
            "----------------------------------------------------------------\n",
            "No de identificacion :  79059750\n",
            "Nombre completo :  orlando fernadez villacres\n",
            "Dirección :  calle con carrera\n",
            "Teléfono :  3001234567\n",
            "Edad :  50\n",
            "Estado Civil :  casado\n",
            "No de Hijos :  2\n",
            "Estatura :  175 cm\n",
            "Fecha de Contratación :  13 / 02 / 2021\n",
            "Sueldo Básico :  2500000\n",
            "Dias Laborados :  300\n"
          ]
        }
      ],
      "source": [
        "from traitlets.config.application import Application\n",
        "#Variable de tipo Entero que almacena el numero de cédula de una persona\n",
        "Id = input (\"Digite su número de cédula : \")\n",
        "Iden = \"No de identificacion : \"\n",
        "#Variable de tipo String que almacena los nombres de una persona\n",
        "Nom = input(\"Digite sus nombres : \")\n",
        "Nomb = \"Nombre completo : \"\n",
        "#Variable de tipo String que almacena los apellidos de una persona\n",
        "Ap = input(\"Digite sus apellidos : \")\n",
        "#Variable de tipo String que almacen la dirección de residencia de una persona\n",
        "Di = input(\"Digite su dirección de residencia : \")\n",
        "Dir = \"Dirección : \"\n",
        "#Variable de tipo Entero que almacena el número de teléfono de una persona\n",
        "Te = input(\"Digite su número telefónico : \")\n",
        "Tel = \"Teléfono : \"\n",
        "#Variable de tipo Entero que almacena la edad de una persona\n",
        "Ed = input(\"Digite su edad : \")\n",
        "Eda = \"Edad : \"\n",
        "#Variable de tipo String que almacena el estado civil de una persona\n",
        "Es = input(\"Digite su estado civil : \")\n",
        "Est = \"Estado Civil : \"\n",
        "#Variable de tipo Entero que almacena el número de hijos de una persona\n",
        "Hi = input(\"Digite número de hijos : \")\n",
        "Hij = \"No de Hijos : \"\n",
        "#Variable de tipo Entero que almacena la estatura de una persona\n",
        "Esta = input(\"Digite su estatura en cm : \")\n",
        "Estat = \"Estatura : \"\n",
        "#Variable de tipo Entero que almacena la fecha de contratacion de una persona\n",
        "Dia = input(\"Digite fecha de contratación : Día : \")\n",
        "Me = input(\"Mes : \")\n",
        "An = input(\"Año : \")\n",
        "Con = \"Fecha de Contratación : \"\n",
        "#Variable de tipo Entero que almacena el sueldo básico de una persona\n",
        "Su = input(\"Digite su sueldo básico : \")\n",
        "Sue = \"Sueldo Básico : \"\n",
        "#Variable de tipo Entero que almacena los días laborados de una persona\n",
        "La = input(\"Digite los dias laborados : \")\n",
        "Lab = \"Dias Laborados : \"\n",
        "separ = \"----------------------------------------------------------------\"\n",
        "print(separ)\n",
        "print(Iden, Id)\n",
        "print(Nomb, Nom, Ap)\n",
        "print(Dir, Di)\n",
        "print(Tel, Te)\n",
        "print(Eda, Ed)\n",
        "print(Est, Es)\n",
        "print(Hij, Hi)\n",
        "print(Estat, Esta, \"cm\")\n",
        "print(Con, Dia,\"/\",Me,\"/\",An)\n",
        "print(Sue, Su)\n",
        "print(Lab, La)"
      ]
    }
  ]
}