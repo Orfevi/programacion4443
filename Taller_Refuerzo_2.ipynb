{
  "cells": [
    {
      "cell_type": "markdown",
      "metadata": {
        "id": "asEMGvwyV4uH"
      },
      "source": [
        "I. Diseña un programa en PYTHON para cada uno de los problemas\n",
        "que se te plantean.\n",
        "1. Se necesita un sistema que despliega una tabla de\n",
        "multiplicar de un número dado por el usuario. ciclo for\n",
        "2. Se necesita un sistema que pida un sueldo de un\n",
        "trabajador, si el sueldo es mayor a 655000, no tedrá\n",
        "ninguna bonificación, pero si es menor tiene bonificación\n",
        "del 4%. Al final se desea saber el total del sueldo con\n",
        "o sin bonificación. Preguntar si desea ejecutar de nuevo\n",
        "el programa con el ciclo while.\n",
        "3. Un maestro necesita un sistema para capturar las\n",
        "calificaciones de 5 parciales de sus alumnos, después\n",
        "recapturarlas necesita que se despliegue el promedio,\n",
        "cuando ya no quiera capturar más alumnos, necesita que\n",
        "se despliegue el promedio general de todos los alumnos\n",
        "capturados. Preguntar si desea ejecutar de nuevo el\n",
        "programa con el ciclo while.\n",
        "4. Crear un bucle que cuente todos los números pares hasta\n",
        "el 100 ciclo for\n",
        "5. Haz una tabla de multiplicar utilizando el ciclo for\n",
        "ciclo for\n",
        "6. Escribir un programa que pregunte al usuario su edad y\n",
        "muestre por pantalla todos los años que ha cumplido\n",
        "(desde 1 hasta su edad). ciclo for"
      ]
    },
    {
      "cell_type": "code",
      "execution_count": null,
      "metadata": {
        "colab": {
          "base_uri": "https://localhost:8080/"
        },
        "id": "u_TUV-yIV8pl",
        "outputId": "917f4c37-66b0-4a35-abec-1a3670668dfa"
      },
      "outputs": [
        {
          "name": "stdout",
          "output_type": "stream",
          "text": [
            "Digite el número de la tabla de multiplicar: 4\n",
            "0  x  4  =  0\n",
            "1  x  4  =  4\n",
            "2  x  4  =  8\n",
            "3  x  4  =  12\n",
            "4  x  4  =  16\n",
            "5  x  4  =  20\n",
            "6  x  4  =  24\n",
            "7  x  4  =  28\n",
            "8  x  4  =  32\n"
          ]
        }
      ],
      "source": [
        "num = int(input(\"Digite el número de la tabla de multiplicar: \"))\n",
        "\n",
        "for i in range(9):\n",
        "  print(i , \" x \", num , \" = \", i * num)"
      ]
    },
    {
      "cell_type": "markdown",
      "metadata": {
        "id": "QJh7J_GPWhIu"
      },
      "source": [
        "2. Se necesita un sistema que pida un sueldo de un trabajador, si el sueldo es mayor a 655000, no tedrá ninguna bonificación, pero si es menor tiene bonificación del 4%. Al final se desea saber el total del sueldo con o sin bonificación. Preguntar si desea ejecutar de nuevo el programa con el ciclo while."
      ]
    },
    {
      "cell_type": "code",
      "execution_count": null,
      "metadata": {
        "colab": {
          "base_uri": "https://localhost:8080/"
        },
        "id": "heclm3tNYG34",
        "outputId": "5511b5d8-07db-4734-bc5d-c4be2c93e73c"
      },
      "outputs": [
        {
          "name": "stdout",
          "output_type": "stream",
          "text": [
            "Digite su sueldo: 600000\n",
            "El sueldo sin bonificacion es: $600,000 y con bonificacion es: $624,000\n",
            "¿Desea ejecutarlo de nuevo? si\n",
            "Digite su sueldo: 700000\n",
            "No tiene bonificacion\n",
            "¿Desea ejecutarlo de nuevo? n\n"
          ]
        }
      ],
      "source": [
        "resp = \"si\"\n",
        "while resp == \"si\" or resp == \"SI\" or resp == \"s\" or resp == \"sí\":\n",
        "  \n",
        "  sueldo = float(input(\"Digite su sueldo: \"))\n",
        "\n",
        "  if sueldo < 655000:\n",
        "    bon = sueldo * 0.04\n",
        "    boni = sueldo + bon\n",
        "    print(f\"El sueldo sin bonificacion es: ${sueldo:,.0f} y con bonificacion es: ${boni:,.0f}\")\n",
        "  else:\n",
        "    print(\"No tiene bonificacion\")\n",
        "  resp = input(\"¿Desea ejecutarlo de nuevo? \")"
      ]
    },
    {
      "cell_type": "markdown",
      "metadata": {
        "id": "p92DLzOtKVQN"
      },
      "source": [
        "3. Un maestro necesita un sistema para capturar las\n",
        "calificaciones de 5 parciales de sus alumnos, después\n",
        "recapturarlas necesita que se despliegue el promedio,\n",
        "cuando ya no quiera capturar más alumnos, necesita que\n",
        "se despliegue el promedio general de todos los alumnos\n",
        "capturados. Preguntar si desea ejecutar de nuevo el\n",
        "programa con el ciclo while."
      ]
    },
    {
      "cell_type": "code",
      "execution_count": null,
      "metadata": {
        "id": "FQF-SNuaKZpx",
        "colab": {
          "base_uri": "https://localhost:8080/"
        },
        "outputId": "08899a02-8f51-4df0-a2ac-e20ab2fa8eed"
      },
      "outputs": [
        {
          "output_type": "stream",
          "name": "stdout",
          "text": [
            "Digite la calificación parcial 1: 3.3\n",
            "Digite la calificación parcial 2: 3.3\n",
            "Digite la calificación parcial 3: 3.3\n",
            "Digite la calificación parcial 4: 3.3\n",
            "Digite la calificación parcial 5: 3.3\n",
            "El promedio es= 3.3\n",
            "¿Desea Cácular otras 3 calificaciones? s\n",
            "Digite la calificación parcial 1: 5.5\n",
            "Digite la calificación parcial 2: 5.5\n",
            "Digite la calificación parcial 3: 5.5\n",
            "Digite la calificación parcial 4: 5.5\n",
            "Digite la calificación parcial 5: 5.5\n",
            "El promedio es= 5.5\n",
            "¿Desea Cácular otras 3 calificaciones? n\n",
            "El promedio de todos los alumnos es= 60.5\n"
          ]
        }
      ],
      "source": [
        "resp = \"si\"\n",
        "while resp == \"si\" or resp == \"s\":\n",
        "  cal1 = float(input(\"Digite la calificación parcial 1: \"))\n",
        "  cal2 = float(input(\"Digite la calificación parcial 2: \"))\n",
        "  cal3 = float(input(\"Digite la calificación parcial 3: \"))\n",
        "  cal4 = float(input(\"Digite la calificación parcial 4: \"))\n",
        "  cal5 = float(input(\"Digite la calificación parcial 5: \"))\n",
        "\n",
        "  prom = round((cal1 + cal2 + cal3 + cal4 + cal5)/5, 2)\n",
        "  print(f\"El promedio es= {prom}\")\n",
        "  resp = input(\"¿Desea Cácular otras 3 calificaciones? \")\n",
        "\n",
        "  for i in range(0,11):\n",
        "    prom = prom + i\n",
        "\n",
        "else:\n",
        "  print(f\"El promedio de todos los alumnos es= {prom}\") "
      ]
    }
  ],
  "metadata": {
    "colab": {
      "provenance": []
    },
    "kernelspec": {
      "display_name": "Python 3",
      "name": "python3"
    },
    "language_info": {
      "name": "python"
    }
  },
  "nbformat": 4,
  "nbformat_minor": 0
}