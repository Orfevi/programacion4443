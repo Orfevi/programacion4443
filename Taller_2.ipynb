{
  "nbformat": 4,
  "nbformat_minor": 0,
  "metadata": {
    "colab": {
      "provenance": []
    },
    "kernelspec": {
      "name": "python3",
      "display_name": "Python 3"
    },
    "language_info": {
      "name": "python"
    }
  },
  "cells": [
    {
      "cell_type": "markdown",
      "source": [
        "**Taller 2:**\n",
        "\n",
        "**Dando continuidad con la primera entrega del proyecto, en esta oportunidad el estudiante debe realizar las siguientes validaciones utilizando la sentencia condicional IF.**"
      ],
      "metadata": {
        "id": "VR63y38OJ656"
      }
    },
    {
      "cell_type": "code",
      "execution_count": 16,
      "metadata": {
        "colab": {
          "base_uri": "https://localhost:8080/",
          "height": 395
        },
        "id": "c8_FaUOXMzcB",
        "outputId": "31b9347f-0bdb-4a1c-b0b4-bfa653aa9473"
      },
      "outputs": [
        {
          "output_type": "error",
          "ename": "KeyboardInterrupt",
          "evalue": "ignored",
          "traceback": [
            "\u001b[0;31m---------------------------------------------------------------------------\u001b[0m",
            "\u001b[0;31mKeyboardInterrupt\u001b[0m                         Traceback (most recent call last)",
            "\u001b[0;32m<ipython-input-16-e2b18f235ceb>\u001b[0m in \u001b[0;36m<cell line: 18>\u001b[0;34m()\u001b[0m\n\u001b[1;32m     16\u001b[0m \u001b[0;31m#Tel = \"Teléfono : \"\u001b[0m\u001b[0;34m\u001b[0m\u001b[0;34m\u001b[0m\u001b[0m\n\u001b[1;32m     17\u001b[0m \u001b[0;31m#Variable de tipo Entero que almacena la edad de una persona\u001b[0m\u001b[0;34m\u001b[0m\u001b[0;34m\u001b[0m\u001b[0m\n\u001b[0;32m---> 18\u001b[0;31m \u001b[0mEd\u001b[0m \u001b[0;34m=\u001b[0m \u001b[0mint\u001b[0m\u001b[0;34m(\u001b[0m\u001b[0minput\u001b[0m\u001b[0;34m(\u001b[0m\u001b[0;34m\"Digite su edad : \"\u001b[0m\u001b[0;34m)\u001b[0m\u001b[0;34m)\u001b[0m\u001b[0;34m\u001b[0m\u001b[0;34m\u001b[0m\u001b[0m\n\u001b[0m\u001b[1;32m     19\u001b[0m \u001b[0mEda\u001b[0m \u001b[0;34m=\u001b[0m \u001b[0;34m\"Edad : \"\u001b[0m\u001b[0;34m\u001b[0m\u001b[0;34m\u001b[0m\u001b[0m\n\u001b[1;32m     20\u001b[0m \u001b[0;31m#Variable de tipo String que almacena el estado civil de una persona\u001b[0m\u001b[0;34m\u001b[0m\u001b[0;34m\u001b[0m\u001b[0m\n",
            "\u001b[0;32m/usr/local/lib/python3.10/dist-packages/ipykernel/kernelbase.py\u001b[0m in \u001b[0;36mraw_input\u001b[0;34m(self, prompt)\u001b[0m\n\u001b[1;32m    849\u001b[0m                 \u001b[0;34m\"raw_input was called, but this frontend does not support input requests.\"\u001b[0m\u001b[0;34m\u001b[0m\u001b[0;34m\u001b[0m\u001b[0m\n\u001b[1;32m    850\u001b[0m             )\n\u001b[0;32m--> 851\u001b[0;31m         return self._input_request(str(prompt),\n\u001b[0m\u001b[1;32m    852\u001b[0m             \u001b[0mself\u001b[0m\u001b[0;34m.\u001b[0m\u001b[0m_parent_ident\u001b[0m\u001b[0;34m,\u001b[0m\u001b[0;34m\u001b[0m\u001b[0;34m\u001b[0m\u001b[0m\n\u001b[1;32m    853\u001b[0m             \u001b[0mself\u001b[0m\u001b[0;34m.\u001b[0m\u001b[0m_parent_header\u001b[0m\u001b[0;34m,\u001b[0m\u001b[0;34m\u001b[0m\u001b[0;34m\u001b[0m\u001b[0m\n",
            "\u001b[0;32m/usr/local/lib/python3.10/dist-packages/ipykernel/kernelbase.py\u001b[0m in \u001b[0;36m_input_request\u001b[0;34m(self, prompt, ident, parent, password)\u001b[0m\n\u001b[1;32m    893\u001b[0m             \u001b[0;32mexcept\u001b[0m \u001b[0mKeyboardInterrupt\u001b[0m\u001b[0;34m:\u001b[0m\u001b[0;34m\u001b[0m\u001b[0;34m\u001b[0m\u001b[0m\n\u001b[1;32m    894\u001b[0m                 \u001b[0;31m# re-raise KeyboardInterrupt, to truncate traceback\u001b[0m\u001b[0;34m\u001b[0m\u001b[0;34m\u001b[0m\u001b[0m\n\u001b[0;32m--> 895\u001b[0;31m                 \u001b[0;32mraise\u001b[0m \u001b[0mKeyboardInterrupt\u001b[0m\u001b[0;34m(\u001b[0m\u001b[0;34m\"Interrupted by user\"\u001b[0m\u001b[0;34m)\u001b[0m \u001b[0;32mfrom\u001b[0m \u001b[0;32mNone\u001b[0m\u001b[0;34m\u001b[0m\u001b[0;34m\u001b[0m\u001b[0m\n\u001b[0m\u001b[1;32m    896\u001b[0m             \u001b[0;32mexcept\u001b[0m \u001b[0mException\u001b[0m \u001b[0;32mas\u001b[0m \u001b[0me\u001b[0m\u001b[0;34m:\u001b[0m\u001b[0;34m\u001b[0m\u001b[0;34m\u001b[0m\u001b[0m\n\u001b[1;32m    897\u001b[0m                 \u001b[0mself\u001b[0m\u001b[0;34m.\u001b[0m\u001b[0mlog\u001b[0m\u001b[0;34m.\u001b[0m\u001b[0mwarning\u001b[0m\u001b[0;34m(\u001b[0m\u001b[0;34m\"Invalid Message:\"\u001b[0m\u001b[0;34m,\u001b[0m \u001b[0mexc_info\u001b[0m\u001b[0;34m=\u001b[0m\u001b[0;32mTrue\u001b[0m\u001b[0;34m)\u001b[0m\u001b[0;34m\u001b[0m\u001b[0;34m\u001b[0m\u001b[0m\n",
            "\u001b[0;31mKeyboardInterrupt\u001b[0m: Interrupted by user"
          ]
        }
      ],
      "source": [
        "from ast import Str\n",
        "from traitlets.config.application import Application\n",
        "#Variable de tipo Entero que almacena el numero de cédula de una persona\n",
        "#Id = input (\"Digite su número de cédula : \")\n",
        "#Iden = \"No de identificacion : \"\n",
        "#Variable de tipo String que almacena los nombres de una persona\n",
        "#Nom = input(\"Digite sus nombres : \")\n",
        "#Nomb = \"Nombre completo : \"\n",
        "#Variable de tipo String que almacena los apellidos de una persona\n",
        "#Ap = input(\"Digite sus apellidos : \")\n",
        "#Variable de tipo String que almacen la dirección de residencia de una persona\n",
        "#Di = input(\"Digite su dirección de residencia : \")\n",
        "#Dir = \"Dirección : \"\n",
        "#Variable de tipo Entero que almacena el número de teléfono de una persona\n",
        "#Te = input(\"Digite su número telefónico : \")\n",
        "#Tel = \"Teléfono : \"\n",
        "#Variable de tipo Entero que almacena la edad de una persona\n",
        "Ed = int(input(\"Digite su edad : \"))\n",
        "Eda = \"Edad : \"\n",
        "#Variable de tipo String que almacena el estado civil de una persona\n",
        "Es = str(input(\"Digite su estado civil : \"))\n",
        "Est = \"Estado Civil : \"\n",
        "#Variable de tipo Entero que almacena el número de hijos de una persona\n",
        "Hi = int(input(\"Digite número de hijos : \"))\n",
        "Hij = \"No de Hijos : \"\n",
        "#Variable de tipo Entero que almacena la estatura de una persona\n",
        "Esta = input(\"Digite su estatura en cm : \")\n",
        "Estat = \"Estatura : \"\n",
        "#Variable de tipo Entero que almacena la fecha de contratacion de una persona\n",
        "Dia = input(\"Digite fecha de contratación : Día : \")\n",
        "Me = input(\"Mes : \")\n",
        "An = input(\"Año : \")\n",
        "Con = \"Fecha de Contratación : \"\n",
        "#Variable de tipo Entero que almacena el sueldo básico de una persona\n",
        "Su = int(input(\"Digite su sueldo básico : \"))\n",
        "Sue = \"Sueldo Básico : $\"\n",
        "#Variable de tipo Entero que almacena los días laborados de una persona\n",
        "La = int(input(\"Digite los dias laborados : \"))\n",
        "Lab = \"Dias Laborados : \"\n",
        "separ = \"----------------------------------------------------------------\"\n",
        "#print(separ)\n",
        "#print(Iden, Id)\n",
        "#print(Nomb, Nom, Ap)\n",
        "#print(Dir, Di)\n",
        "#print(Tel, Te)\n",
        "#print(Eda, Ed)\n",
        "print(Est, Es)\n",
        "print(Hij, Hi)\n",
        "#2. Si el empleado es casado y tiene hijos se le otorgará un paseo cada diciembre\n",
        "if Es == \"casado\":\n",
        "  esta = int(1)\n",
        "  if Hi > 0 and esta == 1:\n",
        "    print(f\"El empleado es casado y tiene {Hi} hijos, se le otorga un paseo el mes de Diciembre.\")\n",
        "print(Estat, Esta, \"cm\")\n",
        "print(Con, Dia,\"/\",Me,\"/\",An)\n",
        "#1. Si el empleado es mayor de 55 años disfrutará de un bono de prepensión correspondiente al 5% de su sueldo básico.\n",
        "if Ed > 55:\n",
        "  bono = Su * 0.05\n",
        "  print(Sue, f\"{Su:,.0f}\")\n",
        "  print(f\"El empleado se hace acreedor a un bono prepensión del 5% correspondiente a ${bono:,.0f}\")\n",
        "#3. Si el sueldo básico está entre 1000000 y 1500000 tendrá una comisión del 2% sobre el valor del sueldo;\n",
        "#Si el sueldo básico está entre 1500001 y 2000000 tendrá una comisión del 5% sobre el valor del sueldo; \n",
        "#para todos los demás casos no habrá comisión.\n",
        "def comisiondosxcien(comis):\n",
        "  comis = Su * 0.02\n",
        "  sueldo = Su + comis\n",
        "  print(f\"Recibe una comision de ${comis:,.0f} que corresponde al 2% de ${Su:,.0f} para un total de sueldo de ${sueldo:,.0f}\")\n",
        "\n",
        "if Su >=1000000 and Su <= 1500000:\n",
        "  comisiondosxcien(Su) \n",
        "\n",
        "def comisioncincoxcien(comis):\n",
        "  comis = Su * 0.05\n",
        "  sueldo = Su + comis\n",
        "  print(f\"Recibe una comision de ${comis:,.0f} que corresponde al 5% de ${Su:,.0f} para un total de sueldo de ${sueldo:,.0f}\")\n",
        "\n",
        "if Su >1500000 and Su <=2000000:\n",
        "  comisioncincoxcien(Su)    \n",
        "else:\n",
        "  print(Sue, Su)\n",
        "\n",
        "#4. Si el empleado trabajó más de 20 días al mes y su sueldo es menor a 1000000 tendrá derecho a un bono de alimentación.\n",
        "if La > 20 and Su < 1000000:\n",
        "  print(Lab, La)\n",
        "  print(f\"El empleado trabajo mas de 20 dias y su sueldo es menor a $1.000.000 tiene derecho a un bono de alimentacion\")\n",
        "else:\n",
        "  print(Lab, La)"
      ]
    }
  ]
}