{
  "nbformat": 4,
  "nbformat_minor": 0,
  "metadata": {
    "colab": {
      "provenance": []
    },
    "kernelspec": {
      "name": "python3",
      "display_name": "Python 3"
    },
    "language_info": {
      "name": "python"
    }
  },
  "cells": [
    {
      "cell_type": "markdown",
      "source": [
        "**TALLER DE REFUERZO**\n",
        "\n",
        "**I. Diseña un programa en PYTHON para cada uno de los problemas\n",
        "que se te plantean.**\n",
        "**1. Un vendedor recibe un sueldo base más un 10% extra por\n",
        "comisión de sus ventas, el vendedor desea saber cuánto\n",
        "dinero obtendrá por concepto de comisiones por las tres\n",
        "ventas que realiza en el mes y el total que recibirá en\n",
        "el mes tomando en cuenta su sueldo base y comisiones.**"
      ],
      "metadata": {
        "id": "C81X3y7Pom0w"
      }
    },
    {
      "cell_type": "code",
      "source": [
        "#Variable de tipo FLOAT que almacena el sueldo base de una persona\n",
        "sbase = float(input(\"Digite Sueldo Base: \"))\n",
        "#Variable de tipo ENTERO que almacena las comisiones de sus ventas\n",
        "com = int(input(\"Digite cantidad de comisiones: \"))\n",
        "#Variable que multiplica las comisiones por el 10%\n",
        "comi = com * 0.10\n",
        "#Variable que almacena la multiplicación del porcentaje de comisiones por el sueldo base\n",
        "comis = sbase * comi\n",
        "#Variable que almacena la suma las comisiones con el sueldo base \n",
        "stot = sbase + comis\n",
        "print(\"\\nEL dinero por concepto de {} comisiones es : {:,.0f} y sueldo base es : {:,.0f}, recibiendo un total de : {:,.0f}\".format(com, comis, sbase, stot))"
      ],
      "metadata": {
        "colab": {
          "base_uri": "https://localhost:8080/"
        },
        "id": "MpQaJCU4opbY",
        "outputId": "3e30e451-1f55-463c-f091-2404722103fb"
      },
      "execution_count": null,
      "outputs": [
        {
          "output_type": "stream",
          "name": "stdout",
          "text": [
            "Digite Sueldo Base: 1500000\n",
            "Digite cantidad de comisiones: 3\n",
            "\n",
            "EL dinero por concepto de 3 comisiones es : 450,000 y sueldo base es : 1,500,000, recibiendo un total de : 1,950,000\n"
          ]
        }
      ]
    },
    {
      "cell_type": "markdown",
      "source": [
        "**2. Una tienda ofrece un descuento del 15% sobre el total\n",
        "de la compra y un cliente desea saber cuánto deberá\n",
        "pagar finalmente por su compra.**"
      ],
      "metadata": {
        "id": "oTFXRi9vznvz"
      }
    },
    {
      "cell_type": "code",
      "source": [
        "#Variable de tipo ENTERO que almacena el valor de la compra\n",
        "vcompra = int(input(\"Digite valor compra: \"))\n",
        "#Variable que almacena el valor del -15% de la compra\n",
        "desc = vcompra * 0.15\n",
        "descu = vcompra - desc\n",
        "print(f\"\\nEl descuento del 15% es: {desc:,.0f} de un valor de compra de: {vcompra:,.0f}, para un pago total con descuento de: {descu:,.0f}\")"
      ],
      "metadata": {
        "colab": {
          "base_uri": "https://localhost:8080/"
        },
        "id": "hl2DTNvlzpqP",
        "outputId": "dd89cd66-78aa-4108-aac7-d987686bc26b"
      },
      "execution_count": null,
      "outputs": [
        {
          "output_type": "stream",
          "name": "stdout",
          "text": [
            "Digite valor compra: 500000\n",
            "\n",
            "El descuento del 15% es: 75,000 de un valor de compra de: 500,000, para un pago total con descuento de: 425,000\n"
          ]
        }
      ]
    },
    {
      "cell_type": "markdown",
      "source": [
        "**3. Un alumno desea saber cuál será su calificación final en\n",
        "la materia de Algoritmos. Dicha calificación se compone\n",
        "de tres exámenes parciales.**"
      ],
      "metadata": {
        "id": "YRX3okhT2gzS"
      }
    },
    {
      "cell_type": "code",
      "source": [
        "#Variables que almacenan 3 calificaciones de un alumno\n",
        "cal1 = float(input(\"Digite la calificación 1: \"))\n",
        "cal2 = float(input(\"Digite la calificación 2: \"))\n",
        "cal3 = float(input(\"Digite la calificación 3: \"))\n",
        "\n",
        "prom = round((cal1 + cal2 + cal3 ) /3, 2)\n",
        "\n",
        "print(f\"\\nEl promedio es= {prom}\")"
      ],
      "metadata": {
        "colab": {
          "base_uri": "https://localhost:8080/"
        },
        "id": "zn1X6spS2iI6",
        "outputId": "d06be7ad-e0fd-4239-ad24-254cd7312def"
      },
      "execution_count": null,
      "outputs": [
        {
          "output_type": "stream",
          "name": "stdout",
          "text": [
            "Digite la calificación 1: 2.5\n",
            "Digite la calificación 2: 3.5\n",
            "Digite la calificación 3: 4.5\n",
            "\n",
            "El promedio es= 3.5\n"
          ]
        }
      ]
    },
    {
      "cell_type": "markdown",
      "source": [
        "**4. Un maestro desea saber qué porcentaje de hombres y que\n",
        "porcentaje de mujeres hay en un grupo de estudiantes.**"
      ],
      "metadata": {
        "id": "YDSkajHk4cEh"
      }
    },
    {
      "cell_type": "code",
      "source": [
        "#Variable que almacena el numero de hombres en un grupo de estudiantes\n",
        "hom = int(input(\"Digite el número de hombres: \"))\n",
        "#Variable que almacena el numero de mujeres en un grupo de estudiantes\n",
        "muj = int(input(\"Digite el número de mujeres: \"))\n",
        "#Variable que almacena el total de estudiantes\n",
        "test = hom + muj\n",
        "phom = (hom/test)*100\n",
        "pmuj = (muj/test)*100\n",
        "print(f\"\\nEl porcentaje de {hom} hombres es: {phom:,.0f}% y el porcentaje de {muj} mujeres es: {pmuj:,.0f}%\")"
      ],
      "metadata": {
        "colab": {
          "base_uri": "https://localhost:8080/"
        },
        "id": "EqHTYGYl4h7P",
        "outputId": "cf8e227b-c9ab-4148-c907-b9ca327c09a0"
      },
      "execution_count": null,
      "outputs": [
        {
          "output_type": "stream",
          "name": "stdout",
          "text": [
            "Digite el número de hombres: 25\n",
            "Digite el número de mujeres: 467\n",
            "\n",
            "El porcentaje de 25 hombres es: 5% y el porcentaje de 467 mujeres es: 95%\n"
          ]
        }
      ]
    }
  ]
}